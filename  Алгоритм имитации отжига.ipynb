{
 "cells": [
  {
   "cell_type": "code",
   "execution_count": 179,
   "id": "89092d86",
   "metadata": {},
   "outputs": [
    {
     "name": "stdout",
     "output_type": "stream",
     "text": [
      "2\n",
      "     параметр 0  параметр 1  параметр 2\n",
      "0          22.0        14.0         3.0\n",
      "1          28.0        22.0         2.0\n",
      "2          42.0        21.0         2.0\n",
      "3          24.0        15.0         3.0\n",
      "4          34.0        20.0         2.0\n",
      "..          ...         ...         ...\n",
      "148        24.0        16.0         2.0\n",
      "149        28.0        17.0         2.0\n",
      "150        29.0        17.0         2.0\n",
      "151        46.0        24.0         2.0\n",
      "152        36.0        20.0         2.0\n",
      "\n",
      "[153 rows x 3 columns]\n"
     ]
    }
   ],
   "source": [
    "#МАШИНЫ\n",
    "\n",
    "import pandas as pd\n",
    "import random\n",
    "import math\n",
    "import time\n",
    "\n",
    "start_time = time.time()\n",
    "\n",
    "buyers = pd.DataFrame()\n",
    "\n",
    "data = pd.read_csv(\"Car_sales.csv\")\n",
    "\n",
    "data['параметр 0'] = data['Price_in_thousands']\n",
    "data['параметр 1'] = data['Horsepower']\n",
    "data['параметр 2'] = data['Fuel_efficiency']\n",
    "\n",
    "buyers.insert(0, \"параметр 0\", round(data['параметр 0']))\n",
    "buyers.insert(1, \"параметр 1\", round(data['параметр 1'] * 0.1))\n",
    "buyers.insert(2, \"параметр 2\", round(data['параметр 2'] * 0.1))\n",
    "\n",
    "buyers = buyers.dropna()\n",
    "buyers = buyers.reset_index(drop=True)\n",
    "\n",
    "Qual_Amount = buyers.shape[1] - 1\n",
    "print(Qual_Amount)\n",
    "# buyers = data\n",
    "print(buyers)\n",
    "generation = buyers.copy()\n",
    "Counter = 3"
   ]
  },
  {
   "cell_type": "code",
   "execution_count": 180,
   "id": "231dbe93",
   "metadata": {},
   "outputs": [],
   "source": [
    "#Функция снижения температуры\n",
    "def DecreaseTemperature(initialTemperature, i):\n",
    "    T = initialTemperature * 0.1 / i\n",
    "    return T\n",
    "\n",
    "#Вычисление вероятности перехода в худшее состояние\n",
    "def GetTransitionProbability(current, state, T):\n",
    "    if (state <= current):\n",
    "        P = 1\n",
    "    else:\n",
    "        P = math.exp(-abs(state - current)/T)\n",
    "    return P\n",
    "\n",
    "def IsTransition(probability):\n",
    "    value = random.randint(1, 99)/100\n",
    "    if (value <= probability):\n",
    "        a = 1\n",
    "    else:\n",
    "        a = 0\n",
    "    return a"
   ]
  },
  {
   "cell_type": "code",
   "execution_count": 181,
   "id": "fae386d2",
   "metadata": {},
   "outputs": [],
   "source": [
    "#Генерация состояния-кандидата\n",
    "def GenerateCandidate(fr_name, energy):\n",
    "    candidate = []\n",
    "    counter = 0\n",
    "    for i in range(0, Qual_Amount + 1):\n",
    "        name1 = 'параметр ' + str(i)\n",
    "        Quality = random.randint(int(min(fr_name[name1][:])), int(max(fr_name[name1][:])))\n",
    "        candidate.append(Quality)\n",
    "    return candidate"
   ]
  },
  {
   "cell_type": "code",
   "execution_count": 182,
   "id": "b149813f",
   "metadata": {},
   "outputs": [],
   "source": [
    "#Подсчёт количества покупателей при данном векторе товара\n",
    "def Amount_of_Buyers(fr_name, vector):\n",
    "    n = fr_name.shape[0]\n",
    "    counter = 0\n",
    "    for j in range (0, n):\n",
    "        condition = (vector[0] <= fr_name['параметр 0'][j])\n",
    "        for i in range(1, Qual_Amount + 1):\n",
    "            name = 'параметр ' + str(i)\n",
    "            condition &= vector[i] >= fr_name[name][j]\n",
    "        if condition:\n",
    "            counter += 1\n",
    "    return counter\n",
    "\n",
    "#Подсчёт прибыли\n",
    "def CalculateEnergy(fr_name, vector):\n",
    "    profit = vector[0]\n",
    "    for i in range(1, Qual_Amount + 1):\n",
    "        profit -= vector[i]\n",
    "    profit = profit * Amount_of_Buyers(fr_name, vector)\n",
    "    return profit"
   ]
  },
  {
   "cell_type": "code",
   "execution_count": 183,
   "id": "80167f58",
   "metadata": {},
   "outputs": [
    {
     "name": "stdout",
     "output_type": "stream",
     "text": [
      "[67, 33, 4]\n",
      "150\n",
      "--- 2.52937912940979 seconds ---\n"
     ]
    }
   ],
   "source": [
    "#Реализация алгоритма имиатции отжига\n",
    "def SimulatedAnnealing(fr_name, initialTemperature, endTemperature):\n",
    "    state = fr_name.loc[0][:]\n",
    "    \n",
    "    currentEnergy = CalculateEnergy(fr_name, state)\n",
    "    \n",
    "    T = initialTemperature\n",
    "    \n",
    "    for i in range (1, 100):   \n",
    "        stateCandidate = GenerateCandidate(fr_name, currentEnergy)\n",
    "        candidateEnergy = CalculateEnergy(fr_name, stateCandidate)\n",
    "        \n",
    "        if(candidateEnergy > currentEnergy): \n",
    "            currentEnergy = candidateEnergy\n",
    "            state = stateCandidate\n",
    "        else:\n",
    "            p = GetTransitionProbability(candidateEnergy, currentEnergy, T)\n",
    "            if (IsTransition(p) == 1):\n",
    "                currentEnergy = candidateEnergy\n",
    "                state = stateCandidate       \n",
    "        \n",
    "        T = DecreaseTemperature(initialTemperature, i)\n",
    "       \n",
    "        \n",
    "        if(T <= endTemperature):\n",
    "            break\n",
    "    print(state)\n",
    "    print(currentEnergy)\n",
    "    return currentEnergy\n",
    "\n",
    "SimulatedAnnealing(buyers, 13000, 0.1)\n",
    "print(\"--- %s seconds ---\" % (time.time() - start_time))"
   ]
  },
  {
   "cell_type": "code",
   "execution_count": null,
   "id": "55549424",
   "metadata": {},
   "outputs": [],
   "source": []
  }
 ],
 "metadata": {
  "kernelspec": {
   "display_name": "Python 3 (ipykernel)",
   "language": "python",
   "name": "python3"
  },
  "language_info": {
   "codemirror_mode": {
    "name": "ipython",
    "version": 3
   },
   "file_extension": ".py",
   "mimetype": "text/x-python",
   "name": "python",
   "nbconvert_exporter": "python",
   "pygments_lexer": "ipython3",
   "version": "3.9.9"
  }
 },
 "nbformat": 4,
 "nbformat_minor": 5
}
