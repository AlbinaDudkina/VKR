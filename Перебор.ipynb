{
 "cells": [
  {
   "cell_type": "code",
   "execution_count": 171,
   "id": "c9748c9c",
   "metadata": {},
   "outputs": [
    {
     "name": "stdout",
     "output_type": "stream",
     "text": [
      "2\n"
     ]
    }
   ],
   "source": [
    "#Ввод данных\n",
    "#МАШИНЫ\n",
    "\n",
    "import pandas as pd\n",
    "import random\n",
    "import math\n",
    "import time\n",
    "\n",
    "start_time = time.time()\n",
    "\n",
    "buyers = pd.DataFrame()\n",
    "\n",
    "data = pd.read_csv(\"Car_sales.csv\")\n",
    "\n",
    "data['параметр 0'] = data['Price_in_thousands']\n",
    "data['параметр 1'] = data['Horsepower']\n",
    "data['параметр 2'] = data['Fuel_efficiency']\n",
    "\n",
    "buyers.insert(0, \"параметр 0\", round(data['параметр 0']))\n",
    "buyers.insert(1, \"параметр 1\", round(data['параметр 1'] * 0.1))\n",
    "buyers.insert(2, \"параметр 2\", round(data['параметр 2'] * 0.1))\n",
    "\n",
    "buyers = buyers.dropna()\n",
    "buyers = buyers.reset_index(drop=True)\n",
    "\n",
    "qual_amount = buyers.shape[1] - 1\n",
    "print(qual_amount)\n",
    "data = buyers.copy()"
   ]
  },
  {
   "cell_type": "code",
   "execution_count": 172,
   "id": "079e0973",
   "metadata": {},
   "outputs": [],
   "source": [
    "#Подсчёт количества покупателей\n",
    "def amount_of_buyers(fr_name, vector):\n",
    "    n = fr_name.shape[0]\n",
    "    counter = 0\n",
    "    for j in range (0, n):\n",
    "        condition = (vector[0] <= fr_name['параметр 0'][j])\n",
    "        for i in range(1, qual_amount + 1):\n",
    "            name = 'параметр ' + str(i)\n",
    "            condition &= vector[i] >= fr_name[name][j]\n",
    "        if condition:\n",
    "            counter += 1\n",
    "    return counter\n",
    "\n",
    "#Подсчёт дохода одного вектора\n",
    "def get_profit(fr_name, vector):\n",
    "    profit = vector[0]\n",
    "    for i in range(1, qual_amount + 1):\n",
    "        profit = profit - vector[i]\n",
    "    profit = profit * amount_of_buyers(fr_name, vector)\n",
    "    return profit"
   ]
  },
  {
   "cell_type": "code",
   "execution_count": 173,
   "id": "0d593f68",
   "metadata": {},
   "outputs": [
    {
     "name": "stdout",
     "output_type": "stream",
     "text": [
      "190.0\n",
      "[70.0, 30.0, 2.0]\n",
      "--- 3.566248893737793 seconds ---\n"
     ]
    }
   ],
   "source": [
    "# #Перебор для одного качества\n",
    "if (qual_amount == 1):\n",
    "    prices = list(sorted(set(buyers['параметр 0'].values.tolist()), reverse = True))\n",
    "    parametr1 = list(sorted(set(buyers['параметр 1'].values.tolist()), reverse = True))\n",
    "    candidate = []\n",
    "    max_profit = 0\n",
    "    max_candidate = 0\n",
    "    for j in range (0, len(prices)):\n",
    "        candidate = [0, 0]\n",
    "        candidate[0] = prices[j]\n",
    "        for k in range (0, len(parametr1)):\n",
    "            candidate[1] = parametr1[k]\n",
    "            print(candidate)\n",
    "            profit = get_profit(data, candidate)\n",
    "            if (max_profit < profit):\n",
    "                max_profit = max(max_profit, profit)\n",
    "                max_candidate = candidate.copy()\n",
    "    print(max_profit)\n",
    "    print(max_candidate)\n",
    "    print(\"--- %s seconds ---\" % (time.time() - start_time))\n",
    "\n",
    "#Перебор для двух качеств\n",
    "if (qual_amount == 2):\n",
    "    prices = list(sorted(set(buyers['параметр 0'].values.tolist()), reverse = True))\n",
    "    parametr1 = list(sorted(set(buyers['параметр 1'].values.tolist()), reverse = True))\n",
    "    parametr2 = list(sorted(set(buyers['параметр 2'].values.tolist()), reverse = True))\n",
    "    Qual_Amount = 2\n",
    "    candidate = []\n",
    "    max_profit = 0\n",
    "    max_candidate = []\n",
    "    for i in range (0, len(parametr2)):\n",
    "        candidate = [0, 0, 0]\n",
    "        candidate[2] = parametr2[i]\n",
    "        for j in range (0, len(prices)):\n",
    "            candidate[0] = prices[j]\n",
    "            for k in range (0, len(parametr1)):\n",
    "                candidate[1] = parametr1[k]\n",
    "                profit = get_profit(data, candidate)\n",
    "                if max_profit < profit:\n",
    "                    max_profit = profit\n",
    "                    max_candidate = candidate.copy()\n",
    "    print(max_profit)\n",
    "    print(max_candidate)\n",
    "    print(\"--- %s seconds ---\" % (time.time() - start_time))"
   ]
  },
  {
   "cell_type": "code",
   "execution_count": null,
   "id": "b43b8f9d",
   "metadata": {},
   "outputs": [],
   "source": []
  }
 ],
 "metadata": {
  "kernelspec": {
   "display_name": "Python 3 (ipykernel)",
   "language": "python",
   "name": "python3"
  },
  "language_info": {
   "codemirror_mode": {
    "name": "ipython",
    "version": 3
   },
   "file_extension": ".py",
   "mimetype": "text/x-python",
   "name": "python",
   "nbconvert_exporter": "python",
   "pygments_lexer": "ipython3",
   "version": "3.9.9"
  }
 },
 "nbformat": 4,
 "nbformat_minor": 5
}
