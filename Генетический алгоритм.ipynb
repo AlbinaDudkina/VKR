{
 "cells": [
  {
   "cell_type": "code",
   "execution_count": 504,
   "id": "f9a34398",
   "metadata": {},
   "outputs": [],
   "source": [
    "#Ввод данных\n",
    "#КВАРТИРЫ\n",
    "\n",
    "import pandas as pd\n",
    "import random\n",
    "import math\n",
    "import time\n",
    "\n",
    "start_time = time.time()\n",
    "\n",
    "buyers = pd.DataFrame()\n",
    "\n",
    "data = pd.read_csv(\"flats_moscow.csv\")\n",
    "\n",
    "data['параметр 0'] = data['price']\n",
    "data['параметр 1'] = data['totsp']\n",
    "\n",
    "data['параметр 1'] = round(data['параметр 1'] * 1.352)\n",
    "\n",
    "buyers.insert(0, \"параметр 0\", data['параметр 0'])\n",
    "buyers.insert(1, \"параметр 1\", data['параметр 1'])\n",
    "\n",
    "generation = buyers.copy()\n",
    "counter_number = buyers.shape[1]\n",
    "qual_amount = buyers.shape[1] - 1"
   ]
  },
  {
   "cell_type": "code",
   "execution_count": 505,
   "id": "95377c03",
   "metadata": {},
   "outputs": [],
   "source": [
    "#Подсчёт количества покупателей\n",
    "def amount_of_buyers(fr_name, vector):\n",
    "    n = fr_name.shape[0]\n",
    "    counter = 0\n",
    "    for j in range (0, n):\n",
    "        condition = (vector[0] <= fr_name['параметр 0'][j])\n",
    "        for i in range(1, qual_amount + 1):\n",
    "            name = 'параметр ' + str(i)\n",
    "            condition &= vector[i] >= fr_name[name][j]\n",
    "        if condition:\n",
    "            counter += 1\n",
    "    return counter\n",
    "\n",
    "#Подсчёт дохода одного вектора-хромосомы\n",
    "def profit(fr_name, vector):\n",
    "    profit = vector[0]\n",
    "    for i in range(1, qual_amount + 1):\n",
    "        profit -= vector[i]\n",
    "    profit = profit * amount_of_buyers(fr_name, vector)\n",
    "    return profit\n",
    "\n",
    "#Подсчёт дохода всех векторов-хромосом\n",
    "def profit_table(fr_name, fr1_name):\n",
    "    global counter_number\n",
    "    n = fr1_name.shape[0]\n",
    "    profit_list = []\n",
    "    for i in range (0, n):\n",
    "        p = profit(fr_name, fr1_name.loc[i][:])\n",
    "        profit_list.append(int(p))\n",
    "    fr1_name.insert(counter_number, \"прибыль\", profit_list)\n",
    "\n",
    "profit_table(buyers, generation)"
   ]
  },
  {
   "cell_type": "code",
   "execution_count": 506,
   "id": "19d4bc89",
   "metadata": {},
   "outputs": [],
   "source": [
    "#Формирование популяции из лучших хромосом\n",
    "def generation_form(generation):\n",
    "    generation = generation.sort_values(by='прибыль', ascending = False)[:20]\n",
    "    generation = generation.reset_index(drop=True)\n",
    "    \n",
    "generation_form(generation)"
   ]
  },
  {
   "cell_type": "code",
   "execution_count": 507,
   "id": "f3d117e3",
   "metadata": {},
   "outputs": [],
   "source": [
    "#Наилучшие представители популяции (с наибольшей прибылью) - родители\n",
    "def best_parents(fr_name):\n",
    "    n = fr_name.shape[0]\n",
    "    parent1 = 0\n",
    "    parent2 = 0\n",
    "    parent1_ind = 0\n",
    "    parent2_ind = 0\n",
    "    for i in range (0, n):\n",
    "        if (fr_name['прибыль'][i] >= parent1):\n",
    "            parent1 = fr_name['прибыль'][i]\n",
    "            parent1_ind = i\n",
    "        elif (fr_name['прибыль'][i] >= parent2):\n",
    "            parent2 = fr_name['прибыль'][i]\n",
    "            parent2_ind = i\n",
    "    return parent1_ind, parent2_ind"
   ]
  },
  {
   "cell_type": "code",
   "execution_count": 508,
   "id": "a5c1f897",
   "metadata": {},
   "outputs": [],
   "source": [
    "#Наихудшие представители популяции (с наименьшей прибылью)- те, кто будет заменен \n",
    "def worst_parents(fr_name):\n",
    "    n = fr_name.shape[0]\n",
    "    w_parent1_ind = 0\n",
    "    w_parent2_ind = 0\n",
    "    w_parent1 = fr_name['прибыль'][0]\n",
    "    w_parent2 = fr_name['прибыль'][0]\n",
    "    for i in range (0, n):\n",
    "        if (fr_name['прибыль'][i] <= w_parent1):\n",
    "            w_parent1 = fr_name['прибыль'][i]\n",
    "            w_parent1_ind = i\n",
    "    for j in range (0, n):\n",
    "        if (fr_name['прибыль'][j] >= w_parent1) & (fr_name['прибыль'][j] < w_parent2) & (j != w_parent1_ind):\n",
    "            w_parent2 = fr_name['прибыль'][j]\n",
    "            w_parent2_ind = j\n",
    "    return  w_parent1_ind, w_parent2_ind, w_parent1, w_parent2"
   ]
  },
  {
   "cell_type": "code",
   "execution_count": 509,
   "id": "eb70e552",
   "metadata": {},
   "outputs": [],
   "source": [
    "#Обмен качествами (одноточеченый кроссовер, точка обмена выбрана случайно)\n",
    "def crossing(fr_name, ind1, ind2):\n",
    "    parent1 = fr_name.loc[ind1][1:qual_amount + 1]\n",
    "    parent2 = fr_name.loc[ind2][1:qual_amount + 1]\n",
    "    cross_point = random.randint(1, qual_amount) \n",
    "    child1 = [fr_name.loc[ind1][0]]\n",
    "    child2 = [fr_name.loc[ind2][0]]\n",
    "    for i in range (0, cross_point):\n",
    "        child2.append(parent1[i]) \n",
    "        child1.append(parent2[i])\n",
    "    for i in range (cross_point, qual_amount):\n",
    "        child1.append(parent1[i])\n",
    "        child2.append(parent2[i])\n",
    "    return child1, child2"
   ]
  },
  {
   "cell_type": "code",
   "execution_count": 510,
   "id": "e68622bb",
   "metadata": {},
   "outputs": [],
   "source": [
    "#Мутация - изменение качеств детей\n",
    "def mutation_of_qual(fr_name, vector1, vector2):\n",
    "    probability = random.randint(1, 100)\n",
    "    if probability <= 50:\n",
    "        which_Qual = random.randint(1, qual_amount)\n",
    "        which_Child = random.randint(1, 2)\n",
    "        name1 = 'параметр ' + str(which_Qual)\n",
    "        if which_Child == 1:\n",
    "            vector1[which_Qual] = random.choice(fr_name[name1][:])\n",
    "        else:\n",
    "            vector2[which_Qual] = random.choice(fr_name[name1][:])\n",
    "    return vector1, vector2"
   ]
  },
  {
   "cell_type": "code",
   "execution_count": 511,
   "id": "4c84870b",
   "metadata": {},
   "outputs": [],
   "source": [
    "#Мутация - изменение цен для тех, кто не улучшился\n",
    "def price_change(vector, fr_name):\n",
    "    new = [0]\n",
    "    low_border = 0\n",
    "    for i in range(1, qual_amount + 1):\n",
    "        low_border += vector[i]\n",
    "    while (new[0] < low_border):\n",
    "        new = new[0:0]\n",
    "        new = [random.choice(fr_name['параметр 0'])] \n",
    "    for i in range (1, qual_amount + 1):\n",
    "        new.append(vector[i])\n",
    "    return new\n",
    "    \n",
    "def mutation(fr_name, vector1, vector2):\n",
    "    vector1_profit = profit(fr_name, vector1)\n",
    "    vector2_profit = profit(fr_name, vector2)\n",
    "    min_profit = max(w_parent1, w_parent2)\n",
    "    if vector1_profit < min_profit:\n",
    "        vector1 = price_change(vector1, fr_name)\n",
    "    if vector2_profit < min_profit:\n",
    "        vector2 = price_change(vector2, fr_name)\n",
    "    return vector1, vector2"
   ]
  },
  {
   "cell_type": "code",
   "execution_count": 512,
   "id": "18ec9f34",
   "metadata": {},
   "outputs": [],
   "source": [
    "#Нахождение двух худших хромосом и их замена на лучших потомков - новое поколение\n",
    "def new_generation(fr_name, fr1_name, vector11, vector22):\n",
    "    vector1 = vector11[0 : qual_amount + 1]\n",
    "    vector2 = vector22[0 : qual_amount + 1]\n",
    "    vector1_profit = profit(fr_name, vector1)\n",
    "    vector2_profit = profit(fr_name, vector2)\n",
    "    vector1.append(vector1_profit)\n",
    "    vector2.append(vector2_profit)\n",
    "    for i in range (0, qual_amount + 2):\n",
    "        if (vector1_profit > w_parent1) or (vector1_profit > w_parent2):\n",
    "            fr1_name.loc[w_parent1_ind][i] = vector1[i]\n",
    "        if (vector2_profit > w_parent1) or (vector2_profit > w_parent2):  \n",
    "            fr1_name.loc[w_parent2_ind][i] = vector2[i]\n",
    "    vector1 = []\n",
    "    vector2 = []\n",
    "    return fr1_name"
   ]
  },
  {
   "cell_type": "code",
   "execution_count": 513,
   "id": "77308913",
   "metadata": {},
   "outputs": [
    {
     "name": "stderr",
     "output_type": "stream",
     "text": [
      "/opt/homebrew/lib/python3.9/site-packages/pandas/core/series.py:1056: SettingWithCopyWarning: \n",
      "A value is trying to be set on a copy of a slice from a DataFrame\n",
      "\n",
      "See the caveats in the documentation: https://pandas.pydata.org/pandas-docs/stable/user_guide/indexing.html#returning-a-view-versus-a-copy\n",
      "  cacher_needs_updating = self._check_is_chained_assignment_possible()\n"
     ]
    }
   ],
   "source": [
    "global_counter = 0\n",
    "while global_counter < 10:\n",
    "    del generation['прибыль']\n",
    "    profit_table(buyers, generation)\n",
    "    parent1_ind, parent2_ind = best_parents(generation)\n",
    "    w_parent1_ind, w_parent2_ind, w_parent1, w_parent2 = worst_parents(generation)\n",
    "    child1, child2 = crossing(generation, parent1_ind, parent2_ind)\n",
    "    child1, child2 = mutation_of_qual(buyers, child1, child2)\n",
    "    child1, child2 = mutation(buyers, child1, child2)\n",
    "    new_generation(buyers, generation, child1, child2)\n",
    "    global_counter += 1"
   ]
  },
  {
   "cell_type": "code",
   "execution_count": 514,
   "id": "016b8e25",
   "metadata": {},
   "outputs": [
    {
     "name": "stdout",
     "output_type": "stream",
     "text": [
      "9234\n",
      "параметр 0     135.0\n",
      "параметр 1     108.0\n",
      "прибыль       9234.0\n",
      "Name: 1559, dtype: float64\n",
      "--- 389.3273060321808 seconds ---\n"
     ]
    }
   ],
   "source": [
    "answer = 0 \n",
    "n = generation.shape[0]\n",
    "for i in range (0, n):\n",
    "    if (generation['прибыль'][i] >= answer):\n",
    "        answer = generation['прибыль'][i]\n",
    "        k = i\n",
    "print(answer)\n",
    "print(generation.loc[k][:])\n",
    "print(\"--- %s seconds ---\" % (time.time() - start_time))"
   ]
  },
  {
   "cell_type": "code",
   "execution_count": null,
   "id": "d4970e5a",
   "metadata": {},
   "outputs": [],
   "source": []
  }
 ],
 "metadata": {
  "kernelspec": {
   "display_name": "Python 3 (ipykernel)",
   "language": "python",
   "name": "python3"
  },
  "language_info": {
   "codemirror_mode": {
    "name": "ipython",
    "version": 3
   },
   "file_extension": ".py",
   "mimetype": "text/x-python",
   "name": "python",
   "nbconvert_exporter": "python",
   "pygments_lexer": "ipython3",
   "version": "3.9.9"
  }
 },
 "nbformat": 4,
 "nbformat_minor": 5
}
